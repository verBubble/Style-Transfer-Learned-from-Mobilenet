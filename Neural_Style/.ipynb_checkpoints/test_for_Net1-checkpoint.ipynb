{
 "cells": [
  {
   "cell_type": "code",
   "execution_count": 1,
   "metadata": {},
   "outputs": [],
   "source": [
    "import cv2\n",
    "import numpy as np\n",
    "import torch\n",
    "import time\n",
    "from PIL import Image\n",
    "\n",
    "import torchvision.transforms as transforms\n",
    "\n",
    "# Neural_Style\n",
    "from Net1_Res import Net1_3Res\n",
    "\n",
    "# define Neural_style_transfer model and transform tool \n",
    "def NeuralStyle_init(weight_path):\n",
    "    model = Net1_3Res()\n",
    "    model.load_state_dict(torch.load(weight_path))\n",
    "    model.cuda()\n",
    "    model.eval()\n",
    "    return model \n",
    "\n",
    "# define how to transform a image\n",
    "# 'img' here is a cv2.VideoCapture return\n",
    "def transform(img, model):\n",
    "    img = cv2.cvtColor(img,cv2.COLOR_BGR2RGB)\n",
    "    img = cv2.resize(img, (320, 240)).astype(np.float32)\n",
    "    img = torch.from_numpy(img.transpose(2,0,1))\n",
    "    img = img.cuda()\n",
    "\n",
    "    # style transfer\n",
    "    t_img = model(img.unsqueeze(0)).data.squeeze(0).cpu()\n",
    "\n",
    "    # process after transferring\n",
    "    #t_img /=255  \n",
    "    t_img[t_img > 255] = 255\n",
    "    t_img[t_img < 0] = 0\n",
    "    img = t_img.numpy().transpose(1,2,0)\n",
    "    img = cv2.cvtColor(img, cv2.COLOR_RGB2BGR)\n",
    "    return img\n"
   ]
  },
  {
   "cell_type": "code",
   "execution_count": 2,
   "metadata": {
    "collapsed": true
   },
   "outputs": [],
   "source": [
    "img = cv2.imread(\"images/test3.jpg\")"
   ]
  },
  {
   "cell_type": "code",
   "execution_count": 3,
   "metadata": {},
   "outputs": [],
   "source": [
    "model2 = NeuralStyle_init(\"checkpoints/GB_Net3_ResInConv.pth\")"
   ]
  },
  {
   "cell_type": "code",
   "execution_count": 4,
   "metadata": {},
   "outputs": [
    {
     "data": {
      "text/plain": [
       "True"
      ]
     },
     "execution_count": 4,
     "metadata": {},
     "output_type": "execute_result"
    }
   ],
   "source": [
    "out = transform(img, model2)\n",
    "cv2.imwrite(\"images/out_net3_ResInConv.jpg\", out)"
   ]
  },
  {
   "cell_type": "code",
   "execution_count": null,
   "metadata": {
    "collapsed": true
   },
   "outputs": [],
   "source": []
  }
 ],
 "metadata": {
  "kernelspec": {
   "display_name": "Python 3",
   "language": "python",
   "name": "python3"
  },
  "language_info": {
   "codemirror_mode": {
    "name": "ipython",
    "version": 3
   },
   "file_extension": ".py",
   "mimetype": "text/x-python",
   "name": "python",
   "nbconvert_exporter": "python",
   "pygments_lexer": "ipython3",
   "version": "3.6.8"
  }
 },
 "nbformat": 4,
 "nbformat_minor": 2
}
