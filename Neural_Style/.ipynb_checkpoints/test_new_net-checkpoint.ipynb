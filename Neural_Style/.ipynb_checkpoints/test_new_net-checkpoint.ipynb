{
 "cells": [
  {
   "cell_type": "code",
   "execution_count": 1,
   "metadata": {},
   "outputs": [],
   "source": [
    "import torch\n",
    "from torch import nn\n",
    "\n",
    "from transformer_net import ConvLayer\n",
    "from transformer_net import ResidualBlock\n",
    "from transformer_net import UpsampleConvLayer\n",
    "from transformer_net import TransformerNet"
   ]
  },
  {
   "cell_type": "code",
   "execution_count": 2,
   "metadata": {
    "collapsed": true
   },
   "outputs": [],
   "source": [
    "x = torch.randn(1, 3, 512, 512)\n",
    "alpha = 0.1\n",
    "\n",
    "conv_layers = nn.Sequential(\n",
    "    ConvLayer(3, int(alpha * 32), 9, 1),\n",
    "    ConvLayer(int(alpha * 32), int(alpha * 64), 3, 2),\n",
    "    ConvLayer(int(alpha * 64), int(alpha * 128), 3, 2))\n",
    "\n",
    "res_layers = nn.Sequential(\n",
    "    ResidualBlock(int(alpha * 128)),\n",
    "    ResidualBlock(int(alpha * 128)),\n",
    "    ResidualBlock(int(alpha * 128)),\n",
    "    ResidualBlock(int(alpha * 128)),\n",
    "    ResidualBlock(int(alpha * 128)))\n",
    "\n",
    "upsample_layers = nn.Sequential(\n",
    "    UpsampleConvLayer(int(alpha * 128), int(alpha * 64), 3, 1, 2),\n",
    "    UpsampleConvLayer(int(alpha * 64), int(alpha * 32), 3, 1, 2),\n",
    "    ConvLayer(int(alpha * 32), 3, 9, 1, relu=False))"
   ]
  },
  {
   "cell_type": "code",
   "execution_count": 3,
   "metadata": {
    "collapsed": true
   },
   "outputs": [],
   "source": [
    "out = conv_layers(x)"
   ]
  },
  {
   "cell_type": "code",
   "execution_count": 4,
   "metadata": {},
   "outputs": [
    {
     "data": {
      "text/plain": [
       "torch.Size([1, 12, 128, 128])"
      ]
     },
     "execution_count": 4,
     "metadata": {},
     "output_type": "execute_result"
    }
   ],
   "source": [
    "out.shape"
   ]
  },
  {
   "cell_type": "code",
   "execution_count": 5,
   "metadata": {
    "collapsed": true
   },
   "outputs": [],
   "source": [
    "out = res_layers(out)"
   ]
  },
  {
   "cell_type": "code",
   "execution_count": 6,
   "metadata": {},
   "outputs": [
    {
     "data": {
      "text/plain": [
       "torch.Size([1, 12, 128, 128])"
      ]
     },
     "execution_count": 6,
     "metadata": {},
     "output_type": "execute_result"
    }
   ],
   "source": [
    "out.shape"
   ]
  },
  {
   "cell_type": "code",
   "execution_count": 7,
   "metadata": {
    "collapsed": true
   },
   "outputs": [],
   "source": [
    "out = upsample_layers(out)"
   ]
  },
  {
   "cell_type": "code",
   "execution_count": 8,
   "metadata": {},
   "outputs": [
    {
     "data": {
      "text/plain": [
       "torch.Size([1, 3, 512, 512])"
      ]
     },
     "execution_count": 8,
     "metadata": {},
     "output_type": "execute_result"
    }
   ],
   "source": [
    "out.shape"
   ]
  },
  {
   "cell_type": "code",
   "execution_count": 9,
   "metadata": {},
   "outputs": [],
   "source": [
    "transfor_net = TransformerNet(0.1)\n",
    "out2 = transfor_net(x)"
   ]
  },
  {
   "cell_type": "code",
   "execution_count": 10,
   "metadata": {},
   "outputs": [
    {
     "data": {
      "text/plain": [
       "torch.Size([1, 3, 512, 512])"
      ]
     },
     "execution_count": 10,
     "metadata": {},
     "output_type": "execute_result"
    }
   ],
   "source": [
    "out2.shape"
   ]
  }
 ],
 "metadata": {
  "kernelspec": {
   "display_name": "Python 3",
   "language": "python",
   "name": "python3"
  },
  "language_info": {
   "codemirror_mode": {
    "name": "ipython",
    "version": 3
   },
   "file_extension": ".py",
   "mimetype": "text/x-python",
   "name": "python",
   "nbconvert_exporter": "python",
   "pygments_lexer": "ipython3",
   "version": "3.6.8"
  }
 },
 "nbformat": 4,
 "nbformat_minor": 2
}
